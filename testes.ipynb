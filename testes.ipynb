{
 "cells": [
  {
   "cell_type": "code",
   "execution_count": 150,
   "metadata": {},
   "outputs": [],
   "source": [
    "import pandas as pd\n",
    "import numpy as np\n",
    "import matplotlib.pyplot as plt\n",
    "import seaborn as sns\n",
    "from sklearn.metrics import mean_absolute_error\n",
    "\n",
    "%config IPCompleter.use_jedi = False"
   ]
  },
  {
   "cell_type": "code",
   "execution_count": 2,
   "metadata": {},
   "outputs": [],
   "source": [
    "data_dir = 'data/'\n",
    "train = pd.read_csv(data_dir + 'train.csv')\n",
    "test = pd.read_csv(data_dir + 'test.csv')\n",
    "from scipy.optimize import minimize"
   ]
  },
  {
   "cell_type": "code",
   "execution_count": 3,
   "metadata": {},
   "outputs": [],
   "source": [
    "breath_ids = train[\"breath_id\"].unique()"
   ]
  },
  {
   "cell_type": "code",
   "execution_count": 447,
   "metadata": {},
   "outputs": [],
   "source": [
    "def eval_pid(x, temp):\n",
    "\n",
    "    p0 = temp.iloc[0][\"pressure\"]\n",
    "\n",
    "    p1 = temp[(temp[\"time_step\"] > 0.85) & (temp[\"time_step\"] < 0.98)].mean()[\n",
    "        \"pressure\"\n",
    "    ]\n",
    "\n",
    "    p2 = temp[\"pressure\"].iloc[-1]\n",
    "\n",
    "    t_ref = 1.05\n",
    "\n",
    "    kp = x[0] / 10\n",
    "    ki = x[1] / 100\n",
    "    kd = x[2] / 1000\n",
    "\n",
    "    c = x[3] * 100\n",
    "\n",
    "    err = p0 - p1\n",
    "    int_ = 0\n",
    "    de = (temp[\"pressure\"].iloc[2]-temp[\"pressure\"].iloc[0])\n",
    "    \n",
    "    arr = np.nan * np.ones((len(temp),3))\n",
    "    \n",
    "    arr[0] = [err, int_, de / temp[\"dt\"].iloc[1]]\n",
    "\n",
    "    error = [err]\n",
    "    integral = [int_]\n",
    "    derivative = [ de / temp[\"dt\"].iloc[1]]\n",
    "    \n",
    "    for i in range(1, len(temp)):\n",
    "\n",
    "        dt = temp[\"dt\"].iloc[i]\n",
    "        int_ = int_ + err * dt\n",
    "        dif_ = de / dt\n",
    "\n",
    "        de = kp * err + ki * int_ + kd * dif_ - err\n",
    "        \n",
    "\n",
    "        err = err + de\n",
    "\n",
    "        arr[i] = [err, int_, de / dt]\n",
    "        \n",
    "    return arr"
   ]
  },
  {
   "cell_type": "code",
   "execution_count": 350,
   "metadata": {},
   "outputs": [],
   "source": [
    "def pred_pressure(x, temp):\n",
    "\n",
    "    p0 = temp.iloc[0][\"pressure\"]\n",
    "\n",
    "    p1 = temp[(temp[\"time_step\"] > 0.85) & (temp[\"time_step\"] < 0.98)].mean()[\n",
    "        \"pressure\"\n",
    "    ]\n",
    "\n",
    "    p2 = temp[\"pressure\"].iloc[-1]\n",
    "\n",
    "    t_ref = x[3]\n",
    "\n",
    "    kp = x[0] / 10\n",
    "    ki = x[1] / 100\n",
    "    kd = x[2] / 1000\n",
    "\n",
    "    #c = x[3] * 100\n",
    "\n",
    "    err = p0 - p1\n",
    "    int_ = 0\n",
    "    de = (temp[\"pressure\"].iloc[2]-temp[\"pressure\"].iloc[0]) / temp[\"dt\"].iloc[1]\n",
    "\n",
    "    error = [err]\n",
    "    \n",
    "    #target = p1 - (p1 - p2) / (1 + np.exp(-c * (temp[\"time_step\"] - t_ref)))\n",
    "    \n",
    "    target = np.where(\n",
    "        temp[\"time_step\"] < 1,\n",
    "        p1,\n",
    "        np.where(\n",
    "            temp[\"time_step\"] < t_ref,\n",
    "            (p2-t_ref*p1+(p1-p2)*temp[\"time_step\"]) / (1-t_ref),\n",
    "            p2\n",
    "        )\n",
    "    )\n",
    "    \n",
    "    for i in range(1, len(temp)):\n",
    "\n",
    "        dt = temp[\"dt\"].iloc[i]\n",
    "        int_ = int_ + err * dt\n",
    "        dif_ = de / dt\n",
    "\n",
    "        de = (kp * err + ki * int_ + kd * dif_ - err)\n",
    "\n",
    "        err = err + de\n",
    "\n",
    "        error.append(err)\n",
    "\n",
    "    \n",
    "\n",
    "    pred = target + error\n",
    "\n",
    "    return pred\n",
    "\n",
    "\n",
    "def sum_squad(x, temp):\n",
    "\n",
    "    pred = pred_pressure(x, temp)\n",
    "\n",
    "    return ((pred - temp[\"pressure\"]) ** 2).sum()\n",
    "\n",
    "\n",
    "# sns.lineplot(data = temp,x='time_step', y = 'pred')\n",
    "# sns.lineplot(data = temp,x='time_step', y = 'pressure')\n",
    "\n",
    "# plt.show()"
   ]
  },
  {
   "cell_type": "code",
   "execution_count": 351,
   "metadata": {},
   "outputs": [],
   "source": [
    "# %%time\n",
    "\n",
    "# temp = train.copy()[train[\"breath_id\"]==32]\n",
    "\n",
    "# p0 = temp.iloc[0]['pressure']\n",
    "\n",
    "# p1 = temp[(temp[\"time_step\"] > 0.85) & (temp[\"time_step\"] < 0.98)].mean()['pressure']\n",
    "\n",
    "# p2 = temp['pressure'].iloc[-1]\n",
    "\n",
    "# t_ref = 1.05\n",
    "\n",
    "# temp['dt'] = temp['time_step'].diff().fillna(0)\n",
    "\n",
    "# # temp['output'] = temp['target'] + (kp*temp['proportional'] + ki*temp['integral'] + kd*temp['derivative'])\n",
    "\n",
    "# # sns.lineplot(data = temp,x='time_step', y = 'target')\n",
    "# sns.lineplot(data = temp,x='time_step', y = 'pressure')\n",
    "\n",
    "# plt.show()"
   ]
  },
  {
   "cell_type": "code",
   "execution_count": 452,
   "metadata": {},
   "outputs": [
    {
     "data": {
      "text/plain": [
       "5.0"
      ]
     },
     "execution_count": 452,
     "metadata": {},
     "output_type": "execute_result"
    }
   ],
   "source": [
    "temp['R'].mean()"
   ]
  },
  {
   "cell_type": "code",
   "execution_count": 453,
   "metadata": {},
   "outputs": [
    {
     "name": "stderr",
     "output_type": "stream",
     "text": [
      "100%|██████████| 10/10 [00:24<00:00,  2.41s/it]"
     ]
    },
    {
     "name": "stdout",
     "output_type": "stream",
     "text": [
      "CPU times: user 23.2 s, sys: 961 ms, total: 24.2 s\n",
      "Wall time: 24.2 s\n"
     ]
    },
    {
     "name": "stderr",
     "output_type": "stream",
     "text": [
      "\n"
     ]
    }
   ],
   "source": [
    "%%time\n",
    "from tqdm import tqdm\n",
    "list_ = []\n",
    "\n",
    "for i in tqdm(range(10)):\n",
    "    try:\n",
    "        temp = train.copy()[train[\"breath_id\"]==np.random.choice(breath_ids)]\n",
    "\n",
    "        temp['dt'] = temp['time_step'].diff().fillna(0)\n",
    "\n",
    "        x = minimize(\n",
    "            sum_squad,\n",
    "            (2,-2,-1, 1),\n",
    "            args=(temp,),\n",
    "            method='Nelder-Mead',\n",
    "        )['x']\n",
    "\n",
    "        list_.append(\n",
    "            {\n",
    "                'C':temp['C'].mean(),\n",
    "                'R':temp['C'].mean(),\n",
    "                'u_in_av':temp['u_in'].mean(),\n",
    "                'u_out_av':temp['u_out'].mean(),\n",
    "                'kp': x[0],\n",
    "                'ki': x[1],\n",
    "                'kd': x[2],\n",
    "                't_ref': x[3],\n",
    "            }\n",
    "        )\n",
    "\n",
    "    except:\n",
    "        pass"
   ]
  },
  {
   "cell_type": "code",
   "execution_count": 454,
   "metadata": {},
   "outputs": [
    {
     "data": {
      "text/html": [
       "<div>\n",
       "<style scoped>\n",
       "    .dataframe tbody tr th:only-of-type {\n",
       "        vertical-align: middle;\n",
       "    }\n",
       "\n",
       "    .dataframe tbody tr th {\n",
       "        vertical-align: top;\n",
       "    }\n",
       "\n",
       "    .dataframe thead th {\n",
       "        text-align: right;\n",
       "    }\n",
       "</style>\n",
       "<table border=\"1\" class=\"dataframe\">\n",
       "  <thead>\n",
       "    <tr style=\"text-align: right;\">\n",
       "      <th></th>\n",
       "      <th>C</th>\n",
       "      <th>R</th>\n",
       "      <th>u_in_av</th>\n",
       "      <th>u_out_av</th>\n",
       "      <th>kp</th>\n",
       "      <th>ki</th>\n",
       "      <th>kd</th>\n",
       "      <th>t_ref</th>\n",
       "    </tr>\n",
       "  </thead>\n",
       "  <tbody>\n",
       "    <tr>\n",
       "      <th>0</th>\n",
       "      <td>50.0</td>\n",
       "      <td>50.0</td>\n",
       "      <td>3.703518</td>\n",
       "      <td>0.6250</td>\n",
       "      <td>8.725122</td>\n",
       "      <td>-2.316113</td>\n",
       "      <td>-0.154938</td>\n",
       "      <td>1.168654</td>\n",
       "    </tr>\n",
       "    <tr>\n",
       "      <th>1</th>\n",
       "      <td>10.0</td>\n",
       "      <td>10.0</td>\n",
       "      <td>2.817292</td>\n",
       "      <td>0.6375</td>\n",
       "      <td>7.078873</td>\n",
       "      <td>3.046780</td>\n",
       "      <td>-12.283818</td>\n",
       "      <td>1.135614</td>\n",
       "    </tr>\n",
       "    <tr>\n",
       "      <th>2</th>\n",
       "      <td>50.0</td>\n",
       "      <td>50.0</td>\n",
       "      <td>10.138831</td>\n",
       "      <td>0.6375</td>\n",
       "      <td>8.873439</td>\n",
       "      <td>0.831554</td>\n",
       "      <td>0.283654</td>\n",
       "      <td>1.240530</td>\n",
       "    </tr>\n",
       "    <tr>\n",
       "      <th>3</th>\n",
       "      <td>50.0</td>\n",
       "      <td>50.0</td>\n",
       "      <td>22.149816</td>\n",
       "      <td>0.6375</td>\n",
       "      <td>9.186098</td>\n",
       "      <td>-2.280433</td>\n",
       "      <td>-0.356018</td>\n",
       "      <td>1.228016</td>\n",
       "    </tr>\n",
       "    <tr>\n",
       "      <th>4</th>\n",
       "      <td>50.0</td>\n",
       "      <td>50.0</td>\n",
       "      <td>5.636077</td>\n",
       "      <td>0.6000</td>\n",
       "      <td>5.296037</td>\n",
       "      <td>-0.702321</td>\n",
       "      <td>-2.714407</td>\n",
       "      <td>1.111746</td>\n",
       "    </tr>\n",
       "    <tr>\n",
       "      <th>5</th>\n",
       "      <td>20.0</td>\n",
       "      <td>20.0</td>\n",
       "      <td>6.296636</td>\n",
       "      <td>0.6125</td>\n",
       "      <td>9.396792</td>\n",
       "      <td>-0.303725</td>\n",
       "      <td>7.613781</td>\n",
       "      <td>1.078832</td>\n",
       "    </tr>\n",
       "    <tr>\n",
       "      <th>6</th>\n",
       "      <td>10.0</td>\n",
       "      <td>10.0</td>\n",
       "      <td>4.760291</td>\n",
       "      <td>0.6375</td>\n",
       "      <td>8.551723</td>\n",
       "      <td>-0.829016</td>\n",
       "      <td>-11.907970</td>\n",
       "      <td>1.105928</td>\n",
       "    </tr>\n",
       "    <tr>\n",
       "      <th>7</th>\n",
       "      <td>50.0</td>\n",
       "      <td>50.0</td>\n",
       "      <td>7.139929</td>\n",
       "      <td>0.6375</td>\n",
       "      <td>8.545844</td>\n",
       "      <td>-60.768209</td>\n",
       "      <td>-4.586326</td>\n",
       "      <td>1.068166</td>\n",
       "    </tr>\n",
       "    <tr>\n",
       "      <th>8</th>\n",
       "      <td>20.0</td>\n",
       "      <td>20.0</td>\n",
       "      <td>9.802594</td>\n",
       "      <td>0.6000</td>\n",
       "      <td>3.931728</td>\n",
       "      <td>-912.258507</td>\n",
       "      <td>-1.080961</td>\n",
       "      <td>1.117789</td>\n",
       "    </tr>\n",
       "    <tr>\n",
       "      <th>9</th>\n",
       "      <td>10.0</td>\n",
       "      <td>10.0</td>\n",
       "      <td>7.487380</td>\n",
       "      <td>0.6000</td>\n",
       "      <td>2.734048</td>\n",
       "      <td>-51.656624</td>\n",
       "      <td>-1.235244</td>\n",
       "      <td>1.108119</td>\n",
       "    </tr>\n",
       "  </tbody>\n",
       "</table>\n",
       "</div>"
      ],
      "text/plain": [
       "      C     R    u_in_av  u_out_av        kp          ki         kd     t_ref\n",
       "0  50.0  50.0   3.703518    0.6250  8.725122   -2.316113  -0.154938  1.168654\n",
       "1  10.0  10.0   2.817292    0.6375  7.078873    3.046780 -12.283818  1.135614\n",
       "2  50.0  50.0  10.138831    0.6375  8.873439    0.831554   0.283654  1.240530\n",
       "3  50.0  50.0  22.149816    0.6375  9.186098   -2.280433  -0.356018  1.228016\n",
       "4  50.0  50.0   5.636077    0.6000  5.296037   -0.702321  -2.714407  1.111746\n",
       "5  20.0  20.0   6.296636    0.6125  9.396792   -0.303725   7.613781  1.078832\n",
       "6  10.0  10.0   4.760291    0.6375  8.551723   -0.829016 -11.907970  1.105928\n",
       "7  50.0  50.0   7.139929    0.6375  8.545844  -60.768209  -4.586326  1.068166\n",
       "8  20.0  20.0   9.802594    0.6000  3.931728 -912.258507  -1.080961  1.117789\n",
       "9  10.0  10.0   7.487380    0.6000  2.734048  -51.656624  -1.235244  1.108119"
      ]
     },
     "execution_count": 454,
     "metadata": {},
     "output_type": "execute_result"
    }
   ],
   "source": [
    "pd.DataFrame(list_)"
   ]
  },
  {
   "cell_type": "code",
   "execution_count": 448,
   "metadata": {},
   "outputs": [
    {
     "data": {
      "image/png": "[encoded data removed]",
      "text/plain": [
       "<Figure size 432x288 with 1 Axes>"
      ]
     },
     "metadata": {
      "needs_background": "light"
     },
     "output_type": "display_data"
    }
   ],
   "source": [
    "temp['pred'] = pred_pressure(x,temp)\n",
    "\n",
    "sns.lineplot(data = temp,x='time_step', y = 'pred')\n",
    "sns.lineplot(data = temp,x='time_step', y = 'pressure')\n",
    "\n",
    "plt.show()"
   ]
  },
  {
   "cell_type": "code",
   "execution_count": 417,
   "metadata": {},
   "outputs": [],
   "source": [
    "def pred_u_out(x,temp):\n",
    "    \n",
    "    pred_out = 1 + 1/(1+np.exp(-x[0]*(temp['u_in'] -x[1]) ))\n",
    "    \n",
    "    return pred_out\n",
    "\n",
    "def sum_squad_u_out(x,temp):\n",
    "    pred = pred_u_out(x,temp)\n",
    "    true = temp['u_out']\n",
    "    \n",
    "    return ((pred-true)**2).sum()"
   ]
  },
  {
   "cell_type": "code",
   "execution_count": 442,
   "metadata": {},
   "outputs": [
    {
     "data": {
      "text/plain": [
       "<AxesSubplot:xlabel='u_in', ylabel='u_out'>"
      ]
     },
     "execution_count": 442,
     "metadata": {},
     "output_type": "execute_result"
    },
    {
     "data": {
      "image/png": "[encoded data removed]",
      "text/plain": [
       "<Figure size 432x288 with 1 Axes>"
      ]
     },
     "metadata": {
      "needs_background": "light"
     },
     "output_type": "display_data"
    }
   ],
   "source": [
    "# x = minimize(\n",
    "#     sum_squad_u_out,\n",
    "#     (1, temp['u_in'].mean()),\n",
    "#     args=(temp,),\n",
    "#     method='Nelder-Mead',\n",
    "# )['x']\n",
    "\n",
    "# temp['u_out_pred'] = pred_u_out(x,temp)\n",
    "sns.scatterplot(data = temp,x='u_in', y = 'u_out')\n",
    "# sns.scatterplot(data = temp,x='u_in', y = 'u_out_pred')"
   ]
  },
  {
   "cell_type": "code",
   "execution_count": 445,
   "metadata": {},
   "outputs": [
    {
     "data": {
      "text/plain": [
       "4.744804878001672"
      ]
     },
     "execution_count": 445,
     "metadata": {},
     "output_type": "execute_result"
    }
   ],
   "source": [
    "temp['u_in'].mean()"
   ]
  },
  {
   "cell_type": "code",
   "execution_count": 446,
   "metadata": {},
   "outputs": [
    {
     "data": {
      "text/plain": [
       "0.6125"
      ]
     },
     "execution_count": 446,
     "metadata": {},
     "output_type": "execute_result"
    }
   ],
   "source": [
    "temp['u_out'].mean()"
   ]
  },
  {
   "cell_type": "code",
   "execution_count": 423,
   "metadata": {},
   "outputs": [],
   "source": [
    "teste = train.groupby(['breath_id']).agg(\n",
    "    R = ('R','mean'),\n",
    "    C = ('C','mean'),\n",
    "    u_in_av = ('u_in','mean')\n",
    ")"
   ]
  },
  {
   "cell_type": "code",
   "execution_count": 430,
   "metadata": {},
   "outputs": [
    {
     "data": {
      "text/plain": [
       "<AxesSubplot:xlabel='u_in_av', ylabel='C'>"
      ]
     },
     "execution_count": 430,
     "metadata": {},
     "output_type": "execute_result"
    },
    {
     "data": {
      "image/png": "[encoded data removed]",
      "text/plain": [
       "<Figure size 432x288 with 1 Axes>"
      ]
     },
     "metadata": {
      "needs_background": "light"
     },
     "output_type": "display_data"
    }
   ],
   "source": [
    "sns.scatterplot(data = teste,x='u_in_av', y = 'C',hue='R',palette=['red','green','blue'])"
   ]
  },
  {
   "cell_type": "code",
   "execution_count": 425,
   "metadata": {},
   "outputs": [
    {
     "data": {
      "text/html": [
       "<div>\n",
       "<style scoped>\n",
       "    .dataframe tbody tr th:only-of-type {\n",
       "        vertical-align: middle;\n",
       "    }\n",
       "\n",
       "    .dataframe tbody tr th {\n",
       "        vertical-align: top;\n",
       "    }\n",
       "\n",
       "    .dataframe thead th {\n",
       "        text-align: right;\n",
       "    }\n",
       "</style>\n",
       "<table border=\"1\" class=\"dataframe\">\n",
       "  <thead>\n",
       "    <tr style=\"text-align: right;\">\n",
       "      <th></th>\n",
       "      <th>R</th>\n",
       "      <th>C</th>\n",
       "      <th>u_in_av</th>\n",
       "    </tr>\n",
       "  </thead>\n",
       "  <tbody>\n",
       "    <tr>\n",
       "      <th>R</th>\n",
       "      <td>1.000000</td>\n",
       "      <td>-0.09607</td>\n",
       "      <td>-0.361829</td>\n",
       "    </tr>\n",
       "    <tr>\n",
       "      <th>C</th>\n",
       "      <td>-0.096070</td>\n",
       "      <td>1.00000</td>\n",
       "      <td>0.368870</td>\n",
       "    </tr>\n",
       "    <tr>\n",
       "      <th>u_in_av</th>\n",
       "      <td>-0.361829</td>\n",
       "      <td>0.36887</td>\n",
       "      <td>1.000000</td>\n",
       "    </tr>\n",
       "  </tbody>\n",
       "</table>\n",
       "</div>"
      ],
      "text/plain": [
       "                R        C   u_in_av\n",
       "R        1.000000 -0.09607 -0.361829\n",
       "C       -0.096070  1.00000  0.368870\n",
       "u_in_av -0.361829  0.36887  1.000000"
      ]
     },
     "execution_count": 425,
     "metadata": {},
     "output_type": "execute_result"
    }
   ],
   "source": [
    "teste.corr()"
   ]
  },
  {
   "cell_type": "code",
   "execution_count": 439,
   "metadata": {},
   "outputs": [
    {
     "data": {
      "text/plain": [
       "0.5387955816178011"
      ]
     },
     "execution_count": 439,
     "metadata": {},
     "output_type": "execute_result"
    }
   ],
   "source": [
    "mean_absolute_error(temp['pressure'],pred_pressure(x,temp))"
   ]
  },
  {
   "cell_type": "code",
   "execution_count": 311,
   "metadata": {},
   "outputs": [],
   "source": [
    "from statsmodels.tsa.seasonal import seasonal_decompose"
   ]
  },
  {
   "cell_type": "code",
   "execution_count": null,
   "metadata": {},
   "outputs": [],
   "source": []
  },
  {
   "cell_type": "code",
   "execution_count": null,
   "metadata": {},
   "outputs": [],
   "source": []
  },
  {
   "cell_type": "markdown",
   "metadata": {
    "_cell_guid": "b1076dfc-b9ad-4769-8c92-a6c4dae69d19",
    "_uuid": "8f2839f25d086af736a60e9eeb907d3b93b6e0e5"
   },
   "source": [
    "## 0. Introduction\n",
    "- Updated 10/04/2021\n",
    "- This code is a baseline with LighGBM train method.\n",
    "- Shown to confirm overfitting\n",
    "- Shown Importance feature by lightGBM feature_importance function\n",
    "- Finished to submit\n",
    "\n",
    "### 0-1. Libarary"
   ]
  },
  {
   "cell_type": "code",
   "execution_count": 1,
   "metadata": {
    "execution": {
     "iopub.execute_input": "2021-10-05T00:47:20.808689Z",
     "iopub.status.busy": "2021-10-05T00:47:20.808371Z",
     "iopub.status.idle": "2021-10-05T00:47:22.919439Z",
     "shell.execute_reply": "2021-10-05T00:47:22.918551Z",
     "shell.execute_reply.started": "2021-10-05T00:47:20.808658Z"
    }
   },
   "outputs": [],
   "source": [
    "import os\n",
    "import gc\n",
    "import glob\n",
    "import time\n",
    "import random\n",
    "import pandas as pd\n",
    "pd.set_option('display.max_columns', 500)\n",
    "pd.set_option('display.max_rows', 100)\n",
    "import numpy as np\n",
    "import matplotlib.pyplot as plt\n",
    "import seaborn as sns\n",
    "\n",
    "import warnings\n",
    "warnings.filterwarnings('ignore')\n",
    "\n",
    "import lightgbm as lgb\n",
    "from sklearn.metrics import mean_absolute_error as mae\n",
    "from sklearn.model_selection import KFold\n",
    "from sklearn.preprocessing import RobustScaler"
   ]
  },
  {
   "cell_type": "markdown",
   "metadata": {},
   "source": [
    "### 0-2. Debug"
   ]
  },
  {
   "cell_type": "code",
   "execution_count": 3,
   "metadata": {
    "execution": {
     "iopub.execute_input": "2021-10-05T00:47:26.605903Z",
     "iopub.status.busy": "2021-10-05T00:47:26.605573Z",
     "iopub.status.idle": "2021-10-05T00:47:26.610841Z",
     "shell.execute_reply": "2021-10-05T00:47:26.609946Z",
     "shell.execute_reply.started": "2021-10-05T00:47:26.605869Z"
    }
   },
   "outputs": [],
   "source": [
    "# For debug\n",
    "class Debug:\n",
    "    def __init__(self):\n",
    "        self._debug = 0\n",
    "        self.debug_size = 100\n",
    "        self.data_dir = 'data/'\n",
    "        \n",
    "debug = Debug()"
   ]
  },
  {
   "cell_type": "markdown",
   "metadata": {},
   "source": [
    "## 1 EDA & Preprocessing\n",
    "### 1-1. Train & Test data"
   ]
  },
  {
   "cell_type": "code",
   "execution_count": 4,
   "metadata": {
    "execution": {
     "iopub.execute_input": "2021-10-05T00:56:46.050019Z",
     "iopub.status.busy": "2021-10-05T00:56:46.049233Z",
     "iopub.status.idle": "2021-10-05T00:56:54.482748Z",
     "shell.execute_reply": "2021-10-05T00:56:54.481668Z",
     "shell.execute_reply.started": "2021-10-05T00:56:46.049976Z"
    }
   },
   "outputs": [
    {
     "data": {
      "text/html": [
       "<div>\n",
       "<style scoped>\n",
       "    .dataframe tbody tr th:only-of-type {\n",
       "        vertical-align: middle;\n",
       "    }\n",
       "\n",
       "    .dataframe tbody tr th {\n",
       "        vertical-align: top;\n",
       "    }\n",
       "\n",
       "    .dataframe thead th {\n",
       "        text-align: right;\n",
       "    }\n",
       "</style>\n",
       "<table border=\"1\" class=\"dataframe\">\n",
       "  <thead>\n",
       "    <tr style=\"text-align: right;\">\n",
       "      <th></th>\n",
       "      <th>id</th>\n",
       "      <th>breath_id</th>\n",
       "      <th>R</th>\n",
       "      <th>C</th>\n",
       "      <th>time_step</th>\n",
       "      <th>u_in</th>\n",
       "      <th>u_out</th>\n",
       "      <th>pressure</th>\n",
       "    </tr>\n",
       "  </thead>\n",
       "  <tbody>\n",
       "    <tr>\n",
       "      <th>0</th>\n",
       "      <td>1</td>\n",
       "      <td>1</td>\n",
       "      <td>20</td>\n",
       "      <td>50</td>\n",
       "      <td>0.000000</td>\n",
       "      <td>0.083334</td>\n",
       "      <td>0</td>\n",
       "      <td>5.837492</td>\n",
       "    </tr>\n",
       "    <tr>\n",
       "      <th>1</th>\n",
       "      <td>2</td>\n",
       "      <td>1</td>\n",
       "      <td>20</td>\n",
       "      <td>50</td>\n",
       "      <td>0.033652</td>\n",
       "      <td>18.383041</td>\n",
       "      <td>0</td>\n",
       "      <td>5.907794</td>\n",
       "    </tr>\n",
       "  </tbody>\n",
       "</table>\n",
       "</div>"
      ],
      "text/plain": [
       "   id  breath_id   R   C  time_step       u_in  u_out  pressure\n",
       "0   1          1  20  50   0.000000   0.083334      0  5.837492\n",
       "1   2          1  20  50   0.033652  18.383041      0  5.907794"
      ]
     },
     "execution_count": 4,
     "metadata": {},
     "output_type": "execute_result"
    }
   ],
   "source": [
    "# Read train and test CSV data\n",
    "def read_train_test():\n",
    "    train = pd.read_csv(debug.data_dir + 'train.csv')\n",
    "    test = pd.read_csv(debug.data_dir + 'test.csv')\n",
    "    return train, test\n",
    "\n",
    "train, test = read_train_test()\n",
    "\n",
    "# Select random breath_id for degug\n",
    "if debug._debug:\n",
    "    random.seed(2021)\n",
    "    lst_train = random.sample(set(train['breath_id'].unique()), debug.debug_size)\n",
    "    lst_test = random.sample(set(test['breath_id'].unique()), debug.debug_size)\n",
    "    train_tmp = pd.DataFrame()\n",
    "    test_tmp = pd.DataFrame()\n",
    "    for i in lst_train:\n",
    "        train_tmp = pd.concat([train_tmp, train[train['breath_id'] == i]], axis=0)\n",
    "    for i in lst_test:\n",
    "        test_tmp = pd.concat([test_tmp, test[test['breath_id'] == i]], axis=0)\n",
    "    train, test = train_tmp, test_tmp\n",
    "    \n",
    "train.head(2)"
   ]
  },
  {
   "cell_type": "markdown",
   "metadata": {},
   "source": [
    "### 1-2. Exploratory Data Analysis\n",
    "### Feature\n",
    "- id - globally-unique time step identifier across an entire file\n",
    "- breath_id - globally-unique time step for breaths\n",
    "- R - lung attribute indicating how restricted the airway is (in cmH2O/L/S). Physically, this is the change in pressure per change in flow (air volume per time). Intuitively, one can imagine blowing up a balloon through a straw. We can change R by changing the diameter of the straw, with higher R being harder to blow.\n",
    "- C - lung attribute indicating how compliant the lung is (in mL/cmH2O). Physically, this is the change in volume per change in pressure. Intuitively, one can imagine the same balloon example. We can change C by changing the thickness of the balloon’s latex, with higher C having thinner latex and easier to blow.\n",
    "- time_step - the actual time stamp.\n",
    "- u_in - the control input for the inspiratory solenoid valve. Ranges from 0 to 100.\n",
    "- u_out - the control input for the exploratory solenoid valve. Either 0 or 1.\n",
    "- pressure - the airway pressure measured in the respiratory circuit, measured in cmH2O."
   ]
  },
  {
   "cell_type": "code",
   "execution_count": 5,
   "metadata": {
    "execution": {
     "iopub.execute_input": "2021-10-05T00:47:50.517703Z",
     "iopub.status.busy": "2021-10-05T00:47:50.517401Z",
     "iopub.status.idle": "2021-10-05T00:47:50.553275Z",
     "shell.execute_reply": "2021-10-05T00:47:50.552709Z",
     "shell.execute_reply.started": "2021-10-05T00:47:50.517673Z"
    }
   },
   "outputs": [
    {
     "data": {
      "text/html": [
       "<div>\n",
       "<style scoped>\n",
       "    .dataframe tbody tr th:only-of-type {\n",
       "        vertical-align: middle;\n",
       "    }\n",
       "\n",
       "    .dataframe tbody tr th {\n",
       "        vertical-align: top;\n",
       "    }\n",
       "\n",
       "    .dataframe thead th {\n",
       "        text-align: right;\n",
       "    }\n",
       "</style>\n",
       "<table border=\"1\" class=\"dataframe\">\n",
       "  <thead>\n",
       "    <tr style=\"text-align: right;\">\n",
       "      <th></th>\n",
       "      <th>breath_id</th>\n",
       "      <th>R</th>\n",
       "      <th>C</th>\n",
       "      <th>time_step</th>\n",
       "      <th>u_in</th>\n",
       "      <th>u_out</th>\n",
       "      <th>pressure</th>\n",
       "    </tr>\n",
       "  </thead>\n",
       "  <tbody>\n",
       "    <tr>\n",
       "      <th>count</th>\n",
       "      <td>6036000.000</td>\n",
       "      <td>6036000.000</td>\n",
       "      <td>6036000.000</td>\n",
       "      <td>6036000.000</td>\n",
       "      <td>6036000.000</td>\n",
       "      <td>6036000.000</td>\n",
       "      <td>6036000.000</td>\n",
       "    </tr>\n",
       "    <tr>\n",
       "      <th>mean</th>\n",
       "      <td>62838.859</td>\n",
       "      <td>27.036</td>\n",
       "      <td>26.081</td>\n",
       "      <td>1.307</td>\n",
       "      <td>7.322</td>\n",
       "      <td>0.620</td>\n",
       "      <td>11.220</td>\n",
       "    </tr>\n",
       "    <tr>\n",
       "      <th>std</th>\n",
       "      <td>36335.256</td>\n",
       "      <td>19.595</td>\n",
       "      <td>17.152</td>\n",
       "      <td>0.766</td>\n",
       "      <td>13.435</td>\n",
       "      <td>0.485</td>\n",
       "      <td>8.110</td>\n",
       "    </tr>\n",
       "    <tr>\n",
       "      <th>min</th>\n",
       "      <td>1.000</td>\n",
       "      <td>5.000</td>\n",
       "      <td>10.000</td>\n",
       "      <td>0.000</td>\n",
       "      <td>0.000</td>\n",
       "      <td>0.000</td>\n",
       "      <td>-1.896</td>\n",
       "    </tr>\n",
       "    <tr>\n",
       "      <th>25%</th>\n",
       "      <td>31377.000</td>\n",
       "      <td>5.000</td>\n",
       "      <td>10.000</td>\n",
       "      <td>0.643</td>\n",
       "      <td>0.394</td>\n",
       "      <td>0.000</td>\n",
       "      <td>6.330</td>\n",
       "    </tr>\n",
       "    <tr>\n",
       "      <th>50%</th>\n",
       "      <td>62765.500</td>\n",
       "      <td>20.000</td>\n",
       "      <td>20.000</td>\n",
       "      <td>1.308</td>\n",
       "      <td>4.386</td>\n",
       "      <td>1.000</td>\n",
       "      <td>7.033</td>\n",
       "    </tr>\n",
       "    <tr>\n",
       "      <th>75%</th>\n",
       "      <td>94301.000</td>\n",
       "      <td>50.000</td>\n",
       "      <td>50.000</td>\n",
       "      <td>1.966</td>\n",
       "      <td>4.984</td>\n",
       "      <td>1.000</td>\n",
       "      <td>13.641</td>\n",
       "    </tr>\n",
       "    <tr>\n",
       "      <th>max</th>\n",
       "      <td>125749.000</td>\n",
       "      <td>50.000</td>\n",
       "      <td>50.000</td>\n",
       "      <td>2.937</td>\n",
       "      <td>100.000</td>\n",
       "      <td>1.000</td>\n",
       "      <td>64.821</td>\n",
       "    </tr>\n",
       "  </tbody>\n",
       "</table>\n",
       "</div>"
      ],
      "text/plain": [
       "         breath_id            R            C    time_step         u_in  \\\n",
       "count  6036000.000  6036000.000  6036000.000  6036000.000  6036000.000   \n",
       "mean     62838.859       27.036       26.081        1.307        7.322   \n",
       "std      36335.256       19.595       17.152        0.766       13.435   \n",
       "min          1.000        5.000       10.000        0.000        0.000   \n",
       "25%      31377.000        5.000       10.000        0.643        0.394   \n",
       "50%      62765.500       20.000       20.000        1.308        4.386   \n",
       "75%      94301.000       50.000       50.000        1.966        4.984   \n",
       "max     125749.000       50.000       50.000        2.937      100.000   \n",
       "\n",
       "             u_out     pressure  \n",
       "count  6036000.000  6036000.000  \n",
       "mean         0.620       11.220  \n",
       "std          0.485        8.110  \n",
       "min          0.000       -1.896  \n",
       "25%          0.000        6.330  \n",
       "50%          1.000        7.033  \n",
       "75%          1.000       13.641  \n",
       "max          1.000       64.821  "
      ]
     },
     "execution_count": 5,
     "metadata": {},
     "output_type": "execute_result"
    }
   ],
   "source": [
    "## Describe in exclude id columns\n",
    "train[train.columns[1:]].describe(include='all').round(3)"
   ]
  },
  {
   "cell_type": "markdown",
   "metadata": {},
   "source": [
    "### 1-3. Time series data(pressure/ u_in / u_out)\n",
    "- from [https://www.kaggle.com/kaitohonda/beginner-lgbm](https://www.kaggle.com/kaitohonda/beginner-lgbm)"
   ]
  },
  {
   "cell_type": "code",
   "execution_count": 6,
   "metadata": {
    "execution": {
     "iopub.execute_input": "2021-10-05T00:48:08.530681Z",
     "iopub.status.busy": "2021-10-05T00:48:08.52959Z",
     "iopub.status.idle": "2021-10-05T00:48:09.766463Z",
     "shell.execute_reply": "2021-10-05T00:48:09.765507Z",
     "shell.execute_reply.started": "2021-10-05T00:48:08.530629Z"
    }
   },
   "outputs": [],
   "source": [
    "if debug._debug:\n",
    "    fig, ax = plt.subplots(1, 3, figsize=(30, 6))\n",
    "    sns.set(font_scale=1.2)\n",
    "    for i, num in enumerate(random.sample(lst_train, 3)):\n",
    "        df = train[train['breath_id']==num]\n",
    "        ax2 = ax[i].twinx()\n",
    "\n",
    "        sns.lineplot(data=df, x='time_step', y='pressure', label='pressure', ax=ax[i])\n",
    "        sns.lineplot(data=df, x='time_step', y='u_in', label='u_in', ax=ax[i])\n",
    "        sns.lineplot(data=df, x='time_step', y='u_out', label='u_out', ax=ax2, color='r')\n",
    "\n",
    "        ax[i].set(xlabel='Timestep', ylabel='pressure, u_in', title=f'breath_id: {num}', xlim=(-0.2, 3.2), ylim=(-5, 105))\n",
    "        ax[i].legend(loc=(0.75, 0.7))\n",
    "        ax2.legend(loc=(0.75, 0.6))\n",
    "    plt.show()"
   ]
  },
  {
   "cell_type": "markdown",
   "metadata": {},
   "source": [
    "### 1-4. Preprocessing"
   ]
  },
  {
   "cell_type": "code",
   "execution_count": 7,
   "metadata": {
    "execution": {
     "iopub.execute_input": "2021-10-05T00:56:57.723683Z",
     "iopub.status.busy": "2021-10-05T00:56:57.723332Z",
     "iopub.status.idle": "2021-10-05T00:56:57.913522Z",
     "shell.execute_reply": "2021-10-05T00:56:57.912555Z",
     "shell.execute_reply.started": "2021-10-05T00:56:57.723648Z"
    }
   },
   "outputs": [],
   "source": [
    "def log_exp_return(series):\n",
    "    return np.exp(np.log1p(series).diff(1).fillna(0))\n",
    "\n",
    "def preprocessing(df):\n",
    "    # time diff\n",
    "    df['time_diff'] = df['time_step'].groupby(df['breath_id']).diff(1).fillna(0)\n",
    "    \n",
    "    # u_in parameter\n",
    "    df['u_in_ratio'] = df['u_in'].groupby(df['breath_id']).apply(log_exp_return)\n",
    "    df['last_value_u_in'] = df['u_in'].groupby(df['breath_id']).transform('last')\n",
    "    df['first_value_u_in'] = df['u_in'].groupby(df['breath_id']).transform('first')\n",
    "\n",
    "    # u_in area\n",
    "    df['area'] = df['time_step'] * df['u_in']\n",
    "    df['area'] = df.groupby('breath_id')['area'].cumsum()\n",
    "    df['u_in_cumsum'] = (df['u_in']).groupby(df['breath_id']).cumsum() \n",
    "    \n",
    "    # u_in shift change \n",
    "    for i in np.arange(1, 3, 1):\n",
    "        df[f'u_in_lag_fwrd{i}'] = df['u_in'].groupby(df['breath_id']).shift(i).fillna(0)\n",
    "        df[f'u_in_lag_back{i}'] = df['u_in'].groupby(df['breath_id']).shift(int(-i)).fillna(0)\n",
    "       \n",
    "    # R, C parameter\n",
    "    df['RC'] = df['C'] * df['R']\n",
    "    df['R/C'] = df['R'] / df['C']\n",
    "    df['C/R'] = df['C'] / df['R']\n",
    "    df['R'] = df['R'].astype('category')\n",
    "    df['C'] = df['C'].astype('category')\n",
    "    df['RC'] = df['RC'].astype('category')\n",
    "    df['R/C'] = df['R/C'].astype('category')\n",
    "    df['C/R'] = df['C/R'].astype('category')\n",
    "    \n",
    "    return df\n",
    "\n",
    "train = preprocessing(train)\n",
    "test = preprocessing(test)\n",
    "\n",
    "# Create each data for lightgbm\n",
    "target = train[\"pressure\"].values\n",
    "train = train.drop([\"id\", 'breath_id', \"pressure\"], axis=1)\n",
    "test = test.drop([\"id\", 'breath_id'], axis=1)\n",
    "feature_column = train.columns.values"
   ]
  },
  {
   "cell_type": "markdown",
   "metadata": {},
   "source": [
    "### 1-5. RobustScaler"
   ]
  },
  {
   "cell_type": "code",
   "execution_count": 8,
   "metadata": {
    "execution": {
     "iopub.execute_input": "2021-10-05T00:57:01.963472Z",
     "iopub.status.busy": "2021-10-05T00:57:01.963154Z",
     "iopub.status.idle": "2021-10-05T00:57:01.991077Z",
     "shell.execute_reply": "2021-10-05T00:57:01.990189Z",
     "shell.execute_reply.started": "2021-10-05T00:57:01.963443Z"
    }
   },
   "outputs": [
    {
     "data": {
      "text/plain": [
       "((6036000, 18), (4024000, 18))"
      ]
     },
     "execution_count": 8,
     "metadata": {},
     "output_type": "execute_result"
    }
   ],
   "source": [
    "rs = RobustScaler()\n",
    "train = rs.fit_transform(train)\n",
    "test = rs.transform(test)\n",
    "train.shape, test.shape"
   ]
  },
  {
   "cell_type": "markdown",
   "metadata": {},
   "source": [
    "## 2. LightGBM\n",
    "### 2-1. LightGBM class\n",
    "- Create Class\n",
    "- You can change easier any parameters"
   ]
  },
  {
   "cell_type": "code",
   "execution_count": null,
   "metadata": {
    "execution": {
     "iopub.execute_input": "2021-10-05T01:11:37.303775Z",
     "iopub.status.busy": "2021-10-05T01:11:37.303183Z",
     "iopub.status.idle": "2021-10-05T01:11:37.320827Z",
     "shell.execute_reply": "2021-10-05T01:11:37.319987Z",
     "shell.execute_reply.started": "2021-10-05T01:11:37.30373Z"
    }
   },
   "outputs": [],
   "source": [
    "class LGBM:\n",
    "    def __init__(self, feature_column):\n",
    "        self.num_boost_round = 8000\n",
    "        self.verbose_eval = 1000\n",
    "        self.early_stopping_rounds = 100\n",
    "        self.cv = 5\n",
    "        self.kf = KFold(n_splits=self.cv, shuffle=True, random_state=2021)\n",
    "        self.n_splits = self.cv\n",
    "        self.boosters = []\n",
    "        self.scores = []\n",
    "        self.eval_results_lst = []\n",
    "        self.feature_column = feature_column\n",
    "        self.feature_importance = pd.DataFrame()\n",
    "        \n",
    "    def lgbm_train(self, train, target):\n",
    "        params = {\n",
    "                'objective': 'regression_l1',\n",
    "                'metric': 'mae',\n",
    "                'boosting_type': 'gbdt',\n",
    "                'verbose': -1\n",
    "                }\n",
    "        \n",
    "        # Lughgbm train\n",
    "        for fold, (trn_idx, val_idx) in enumerate(self.kf.split(train, target)):\n",
    "            eval_results = {}\n",
    "            print(\"=\"*15 + f' Fold {fold+1} started at {time.ctime()} ' + \"=\"*15)\n",
    "            X_trn, X_val = train[trn_idx], train[val_idx]\n",
    "            y_trn, y_val = target[trn_idx], target[val_idx]\n",
    "            lgb_trn = lgb.Dataset(X_trn, label=y_trn)\n",
    "            lgb_val = lgb.Dataset(X_val, label=y_val)\n",
    "            booster = lgb.train(params=params, \n",
    "                                train_set=lgb_trn, \n",
    "                                valid_sets=[lgb_trn, lgb_val],\n",
    "                                valid_names=['Train', 'Valid'], \n",
    "                                num_boost_round=self.num_boost_round, \n",
    "                                early_stopping_rounds=self.early_stopping_rounds, \n",
    "                                verbose_eval=self.verbose_eval,\n",
    "                                evals_result=eval_results)   \n",
    "            \n",
    "            y_pred = booster.predict(X_val, num_iteration=booster.best_iteration)\n",
    "            score = mae(y_val, y_pred)\n",
    "            print(f'MAE: {score}')\n",
    "            \n",
    "            self.eval_results_lst.append(eval_results)\n",
    "            self.boosters.append(booster)\n",
    "            self.scores.append(score)            \n",
    "            \n",
    "            fold_importance = pd.DataFrame()\n",
    "            fold_importance[\"feature\"] = self.feature_column\n",
    "            fold_importance[\"importance\"] = booster.feature_importance()\n",
    "            fold_importance[\"fold\"] = fold + 1\n",
    "            self.feature_importance = pd.concat([self.feature_importance, fold_importance], axis=0)\n",
    "        \n",
    "            del X_trn, X_val, y_trn, y_val, lgb_trn, lgb_val, fold_importance\n",
    "            gc.collect()\n",
    "                \n",
    "    # Vizualize Importance columns\n",
    "    def importance_show(self, top=20):\n",
    "        df_tmp = self.feature_importance\n",
    "        sns.set(font_scale=1.2)\n",
    "        fig, ax = plt.subplots(1, self.cv, figsize=(30, 20))\n",
    "        for i in range(self.cv):\n",
    "            df = df_tmp[df_tmp[\"fold\"]==i+1].sort_values('importance', ascending=False)\n",
    "            sns.barplot(data=df[:top], x=\"importance\", y=\"feature\", ci=None, ax=ax[i])\n",
    "            ax[i].set_title(f\"Fold: {i+1}\")\n",
    "        plt.tight_layout()\n",
    "        plt.show()\n",
    "        \n",
    "        del df_tmp\n",
    "        gc.collect()"
   ]
  },
  {
   "cell_type": "markdown",
   "metadata": {},
   "source": [
    "### 2-3. LightGBM Train"
   ]
  },
  {
   "cell_type": "code",
   "execution_count": null,
   "metadata": {
    "execution": {
     "iopub.execute_input": "2021-10-05T01:11:40.242414Z",
     "iopub.status.busy": "2021-10-05T01:11:40.241956Z",
     "iopub.status.idle": "2021-10-05T01:12:35.052244Z",
     "shell.execute_reply": "2021-10-05T01:12:35.050984Z",
     "shell.execute_reply.started": "2021-10-05T01:11:40.242383Z"
    }
   },
   "outputs": [],
   "source": [
    "lgbm_inst = LGBM(feature_column)\n",
    "lgbm_inst.lgbm_train(train, target)"
   ]
  },
  {
   "cell_type": "markdown",
   "metadata": {},
   "source": [
    "### 2-4. Checking overfitting\n",
    "- Checking overfitting using eval_results dict"
   ]
  },
  {
   "cell_type": "code",
   "execution_count": null,
   "metadata": {
    "execution": {
     "iopub.execute_input": "2021-10-05T01:12:54.063567Z",
     "iopub.status.busy": "2021-10-05T01:12:54.063106Z",
     "iopub.status.idle": "2021-10-05T01:12:54.927037Z",
     "shell.execute_reply": "2021-10-05T01:12:54.926387Z",
     "shell.execute_reply.started": "2021-10-05T01:12:54.063523Z"
    }
   },
   "outputs": [],
   "source": [
    "fig, ax = plt.subplots(1, lgbm_inst.cv, figsize=(30, 6))\n",
    "for i, results in enumerate(lgbm_inst.eval_results_lst):\n",
    "    ax[i].plot(np.log(results['Train']['l1']), label='train')\n",
    "    ax[i].plot(np.log(results['Valid']['l1']), label='valid')\n",
    "    ax[i].set(xlabel=\"Boosting round\", ylabel = 'Log_loss', title = f'Training Fold {i+1}')\n",
    "plt.legend()\n",
    "plt.show()"
   ]
  },
  {
   "cell_type": "markdown",
   "metadata": {},
   "source": [
    "### 2-5. Feature Importance\n",
    "- Visualize how each explanatory variable affects the objective function"
   ]
  },
  {
   "cell_type": "code",
   "execution_count": null,
   "metadata": {
    "execution": {
     "iopub.execute_input": "2021-10-05T01:13:25.609234Z",
     "iopub.status.busy": "2021-10-05T01:13:25.608775Z",
     "iopub.status.idle": "2021-10-05T01:13:27.093887Z",
     "shell.execute_reply": "2021-10-05T01:13:27.093292Z",
     "shell.execute_reply.started": "2021-10-05T01:13:25.609189Z"
    }
   },
   "outputs": [],
   "source": [
    "print('\\n CV mean score: {0:.4f}, std: {1:.4f}.'.format(np.mean(lgbm_inst.scores), np.std(lgbm_inst.scores)))\n",
    "lgbm_inst.importance_show(top=20)"
   ]
  },
  {
   "cell_type": "markdown",
   "metadata": {},
   "source": [
    "## 3.Submission"
   ]
  },
  {
   "cell_type": "code",
   "execution_count": null,
   "metadata": {
    "execution": {
     "iopub.execute_input": "2021-10-05T00:58:41.6091Z",
     "iopub.status.busy": "2021-10-05T00:58:41.608787Z",
     "iopub.status.idle": "2021-10-05T00:58:42.090121Z",
     "shell.execute_reply": "2021-10-05T00:58:42.089501Z",
     "shell.execute_reply.started": "2021-10-05T00:58:41.609067Z"
    }
   },
   "outputs": [],
   "source": [
    "if not debug._debug:\n",
    "    submission = pd.read_csv(debug.data_dir + \"sample_submission.csv\")\n",
    "    for booster in lgbm_inst.boosters:\n",
    "        submission['pressure'] += booster.predict(test, num_iteration=booster.best_iteration)\n",
    "    submission['pressure'] /= lgbm_inst.cv\n",
    "    submission.to_csv('submission_lgb.csv', index=False)\n",
    "    print(submission.tail(2))"
   ]
  },
  {
   "cell_type": "code",
   "execution_count": null,
   "metadata": {},
   "outputs": [],
   "source": []
  }
 ],
 "metadata": {
  "kernelspec": {
   "display_name": "Python 3",
   "language": "python",
   "name": "python3"
  },
  "language_info": {
   "codemirror_mode": {
    "name": "ipython",
    "version": 3
   },
   "file_extension": ".py",
   "mimetype": "text/x-python",
   "name": "python",
   "nbconvert_exporter": "python",
   "pygments_lexer": "ipython3",
   "version": "3.6.9"
  }
 },
 "nbformat": 4,
 "nbformat_minor": 4
}
